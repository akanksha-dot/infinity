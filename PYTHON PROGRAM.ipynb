{
 "cells": [
  {
   "cell_type": "markdown",
   "metadata": {},
   "source": [
    "# PATTERN PROGRAM "
   ]
  },
  {
   "cell_type": "code",
   "execution_count": 1,
   "metadata": {},
   "outputs": [
    {
     "name": "stdout",
     "output_type": "stream",
     "text": [
      "* * * * * \n",
      "*    * \n",
      "*    * \n",
      "*    * \n",
      "* * * * * \n"
     ]
    }
   ],
   "source": [
    "#### USING FOR LOOP AND IF-ELSE CONDITION .AND ALSO WITH THE HELP OF BOOLEAN OPERATOR WE CHECK THE CONDITION IF ALL SATIFIED THEN PRINT REQUIRED PATTERN\n",
    "for i in range(5):\n",
    "    for j in range(5):\n",
    "        if i==0 or i==4 or j==0 or j==4:\n",
    "             print(\"*\",end=\" \")\n",
    "        else:\n",
    "            print(end=\" \")\n",
    "    print()        \n",
    "          "
   ]
  },
  {
   "cell_type": "code",
   "execution_count": 2,
   "metadata": {},
   "outputs": [
    {
     "name": "stdout",
     "output_type": "stream",
     "text": [
      "*    \n",
      "**   \n",
      "* *  \n",
      "*  * \n",
      "*****\n"
     ]
    }
   ],
   "source": [
    "for i in range(5):\n",
    "    for j in range(5):\n",
    "        if i==4 or i-j==0 or j<=0:\n",
    "            print(\"*\",end=\"\")\n",
    "        else:\n",
    "            print(end=\" \")\n",
    "    print()        "
   ]
  },
  {
   "cell_type": "markdown",
   "metadata": {},
   "source": [
    "# TIME MODULE-IT HANDEL TIME RELATED TASK .WE KNOW THAT EVERY PROGRAM TAKE EXECUTION TIME BUT HOW MUCH THAT WE DONT KNOW.TO RESOLVE THIS WE USE TIME MODULE."
   ]
  },
  {
   "cell_type": "code",
   "execution_count": 3,
   "metadata": {},
   "outputs": [
    {
     "name": "stdout",
     "output_type": "stream",
     "text": [
      "hey jack\n",
      "hey jack\n",
      "hey jack\n",
      "hey jack\n",
      "hey jack\n",
      "hey jack\n",
      "hey jack\n",
      "hey jack\n",
      "hey jack\n",
      "hey jack\n",
      "hey jack\n",
      "hey jack\n",
      "hey jack\n",
      "hey jack\n",
      "hey jack\n",
      "While loop run in 1602657872.9360678 seconds\n"
     ]
    }
   ],
   "source": [
    "### IMPORT LIBRARIES\n",
    "import time\n",
    "## here we create instances of time.time()\n",
    "initial=time.time()\n",
    "### print hey jack through while loop\n",
    "k=0\n",
    "while(k<15):\n",
    "    print(\"hey jack\")\n",
    "    k+=1\n",
    "#### here we check execution time of program that how much time taken by while loop     \n",
    "print(\"While loop run in\",time.time(),\"seconds\") \n",
    "\n"
   ]
  },
  {
   "cell_type": "markdown",
   "metadata": {},
   "source": [
    "# THE FUNCTION time.time() returns the current system time in ticks ."
   ]
  },
  {
   "cell_type": "code",
   "execution_count": 4,
   "metadata": {},
   "outputs": [
    {
     "data": {
      "text/plain": [
       "'Wed Oct 14 12:14:33 2020'"
      ]
     },
     "execution_count": 4,
     "metadata": {},
     "output_type": "execute_result"
    }
   ],
   "source": [
    "#### IT GIVE LOCAL CURRENT TIME\n",
    "import time\n",
    "localtime=time.asctime()\n",
    "localtime"
   ]
  },
  {
   "cell_type": "code",
   "execution_count": 5,
   "metadata": {},
   "outputs": [
    {
     "name": "stdout",
     "output_type": "stream",
     "text": [
      "python\n",
      "python\n",
      "python\n",
      "python\n",
      "python\n",
      "python\n",
      "python\n",
      "python\n",
      "python\n",
      "python\n",
      "python\n",
      "python\n",
      "python\n",
      "python\n",
      "python\n",
      "while loop run in 30.186053037643433 seconds\n",
      "harry\n",
      "harry\n",
      "harry\n",
      "harry\n",
      "harry\n",
      "harry\n",
      "harry\n",
      "harry\n",
      "harry\n",
      "harry\n",
      "harry\n",
      "harry\n",
      "harry\n",
      "harry\n",
      "harry\n",
      "for loop run in 0.0 seconds\n"
     ]
    }
   ],
   "source": [
    "###IMPORT LIBRARY\n",
    "import time\n",
    "### CREATE OBJECT OF TIME.TIME()\n",
    "initial1=time.time()\n",
    "### WHILE LOOP\n",
    "k=0\n",
    "while(k<15):\n",
    "    print(\"python\")\n",
    "#### IT IS A TIME.SLEEP FUNCTION AND WE HAVE GIVEN SPECIFIC NUMBER     \n",
    "    time.sleep(2) \n",
    "    k+=1\n",
    "###HERE WE HAVE CHECK THE EXECUTION TIME OF WHILE LOOP AND IN MEAN TIME ALSO IT TAKING THE DELAY FOR SPECIFIC SECONDS\n",
    "print(\"while loop run in\",time.time()-initial1,\"seconds\")\n",
    "\n",
    "### CREATE ANOTHER INSTANCES OF TIME.TIME()\n",
    "initial2=time.time()\n",
    "#### FOR LOOP\n",
    "for i in range(15):\n",
    "    print(\"harry\")\n",
    "#### HERE WE HAVE CHECK EXECUTION TIME OF FOR LOOP WITHOUT ANY DELAY OF COMMANDS    \n",
    "print(\"for loop run in\",time.time()-initial2,\"seconds\")    \n",
    "    \n",
    "    "
   ]
  },
  {
   "cell_type": "markdown",
   "metadata": {},
   "source": [
    "# WHILE LOOP TAKEN EXECUTION TIME OF 30.186053037643433 SECONDS BECAUSE IT  TAKE DELAY OF 2 SEC AFTER  EVERY COMMANDS.BUT FOR LOOP EXECUTION TIME IS 0.0 SECONDS WITHOUT ANY DELAY OF SECONDS "
   ]
  },
  {
   "cell_type": "code",
   "execution_count": null,
   "metadata": {},
   "outputs": [],
   "source": []
  }
 ],
 "metadata": {
  "kernelspec": {
   "display_name": "Python 3",
   "language": "python",
   "name": "python3"
  },
  "language_info": {
   "codemirror_mode": {
    "name": "ipython",
    "version": 3
   },
   "file_extension": ".py",
   "mimetype": "text/x-python",
   "name": "python",
   "nbconvert_exporter": "python",
   "pygments_lexer": "ipython3",
   "version": "3.7.6"
  }
 },
 "nbformat": 4,
 "nbformat_minor": 4
}
